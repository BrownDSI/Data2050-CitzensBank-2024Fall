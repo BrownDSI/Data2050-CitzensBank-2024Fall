{
 "cells": [
  {
   "cell_type": "code",
   "execution_count": 7,
   "metadata": {},
   "outputs": [],
   "source": [
    "import os\n",
    "import random\n",
    "import shutil\n",
    "import csv\n",
    "\n",
    "def move_random_signatures_with_csv(src_folder, dest_folder, n, random_seed):\n",
    "    random.seed(random_seed)\n",
    "\n",
    "    all_files = os.listdir(src_folder)\n",
    "\n",
    "    individuals = sorted(set(f[:2] for f in all_files if len(f) > 3))\n",
    "    \n",
    "    if n > len(individuals):\n",
    "        raise ValueError(f\"Cannot select {n} persons, only {len(individuals)} individuals available.\")\n",
    "\n",
    "    selected_individuals = random.sample(individuals, n)\n",
    "\n",
    "    seed_folder = os.path.join(dest_folder, f'seed_{random_seed}')\n",
    "    os.makedirs(seed_folder, exist_ok=True)\n",
    "\n",
    "    csv_filename = os.path.join(dest_folder, \"sample_dataset_RealFake_Turkish.csv\")\n",
    "\n",
    "    with open(csv_filename, mode='w', newline='', encoding='utf-8') as csv_file:\n",
    "        writer = csv.writer(csv_file)\n",
    "        writer.writerow([\"Data Source\", \"Language\", \"Seed\", \"Person ID/Name\", \"Class\", \"Image ID\", \"Image File\"])\n",
    "\n",
    "        for file in all_files:\n",
    "            individual_id = file[:2]\n",
    "            if individual_id in selected_individuals:\n",
    "                signature_type = 'true' if 'T' in file else 'forge'\n",
    "                signature_number = file[3:].split('.')[0]  \n",
    "\n",
    "                person_folder = os.path.join(seed_folder, f'person_{individual_id}')\n",
    "                true_folder = os.path.join(person_folder, 'true')\n",
    "                forge_folder = os.path.join(person_folder, 'forge')\n",
    "                os.makedirs(true_folder, exist_ok=True)\n",
    "                os.makedirs(forge_folder, exist_ok=True)\n",
    "\n",
    "                new_filename = f'RealFake_Turkish_person_{individual_id}_{signature_type}_{signature_number}.png'\n",
    "                \n",
    "                src_file = os.path.join(src_folder, file)\n",
    "                if signature_type == 'true':\n",
    "                    dest_file = os.path.join(true_folder, new_filename)\n",
    "                else:\n",
    "                    dest_file = os.path.join(forge_folder, new_filename)\n",
    "\n",
    "                shutil.copy(src_file, dest_file)\n",
    "\n",
    "                writer.writerow([\n",
    "                    \"RealFake\",                   \n",
    "                    \"Turkish\",                    \n",
    "                    random_seed,                  \n",
    "                    f\"person_{individual_id}\",    \n",
    "                    signature_type,              \n",
    "                    signature_number,            \n",
    "                    f'./{dest_file}'             \n",
    "                ])\n",
    "\n",
    "    print(f\"Moved and recorded all signatures of {n} randomly selected individuals to the '{seed_folder}' folder and '{csv_filename}' CSV file.\")\n"
   ]
  },
  {
   "cell_type": "code",
   "execution_count": 9,
   "metadata": {},
   "outputs": [
    {
     "name": "stdout",
     "output_type": "stream",
     "text": [
      "Moved and recorded all signatures of 10 randomly selected individuals to the 'C:\\Users\\marui\\Brown\\DATA2050\\Dataset\\Real_fake_scann\\generated_signature\\seed_42' folder and 'C:\\Users\\marui\\Brown\\DATA2050\\Dataset\\Real_fake_scann\\generated_signature\\sample_dataset_RealFake_Turkish.csv' CSV file.\n"
     ]
    }
   ],
   "source": [
    "move_random_signatures_with_csv(r\"C:\\Users\\marui\\Brown\\DATA2050\\Dataset\\Real_fake_scann\\Signature Images\", r\"C:\\Users\\marui\\Brown\\DATA2050\\Dataset\\Real_fake_scann\\generated_signature\", 10, 42)"
   ]
  }
 ],
 "metadata": {
  "kernelspec": {
   "display_name": "data2050",
   "language": "python",
   "name": "python3"
  },
  "language_info": {
   "codemirror_mode": {
    "name": "ipython",
    "version": 3
   },
   "file_extension": ".py",
   "mimetype": "text/x-python",
   "name": "python",
   "nbconvert_exporter": "python",
   "pygments_lexer": "ipython3",
   "version": "3.12.7"
  }
 },
 "nbformat": 4,
 "nbformat_minor": 2
}
